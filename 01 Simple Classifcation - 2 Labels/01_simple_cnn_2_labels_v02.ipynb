{
 "cells": [
  {
   "cell_type": "markdown",
   "id": "9428e7b7",
   "metadata": {
    "papermill": {
     "duration": 0.005073,
     "end_time": "2024-11-19T20:08:27.925269",
     "exception": false,
     "start_time": "2024-11-19T20:08:27.920196",
     "status": "completed"
    },
    "tags": []
   },
   "source": [
    "# Skin Cancer Detection"
   ]
  },
  {
   "cell_type": "markdown",
   "id": "f8af6560",
   "metadata": {
    "papermill": {
     "duration": 0.00398,
     "end_time": "2024-11-19T20:08:27.933574",
     "exception": false,
     "start_time": "2024-11-19T20:08:27.929594",
     "status": "completed"
    },
    "tags": []
   },
   "source": [
    "### 1. Importing Libraries"
   ]
  },
  {
   "cell_type": "code",
   "execution_count": 1,
   "id": "208e5aa9",
   "metadata": {
    "_cell_guid": "b1076dfc-b9ad-4769-8c92-a6c4dae69d19",
    "_uuid": "8f2839f25d086af736a60e9eeb907d3b93b6e0e5",
    "execution": {
     "iopub.execute_input": "2024-11-19T20:08:27.943080Z",
     "iopub.status.busy": "2024-11-19T20:08:27.942714Z",
     "iopub.status.idle": "2024-11-19T20:08:40.443467Z",
     "shell.execute_reply": "2024-11-19T20:08:40.442523Z"
    },
    "papermill": {
     "duration": 12.507861,
     "end_time": "2024-11-19T20:08:40.445525",
     "exception": false,
     "start_time": "2024-11-19T20:08:27.937664",
     "status": "completed"
    },
    "tags": []
   },
   "outputs": [],
   "source": [
    "# for data manipulation\n",
    "import pandas as pd\n",
    "import numpy as np\n",
    "\n",
    "# for data visualization\n",
    "import matplotlib.pyplot as plt\n",
    "import seaborn as sns\n",
    "\n",
    "# DL Libraries\n",
    "import tensorflow as tf\n",
    "from tensorflow import keras\n",
    "from keras.layers import Conv2D , MaxPooling2D ,Dropout , Flatten , Dense ,BatchNormalization ,Concatenate ,Input \n",
    "from keras.models import Sequential ,Model\n",
    "\n",
    "# SK Learn library to split train and test data\n",
    "from sklearn.model_selection import train_test_split\n",
    "\n",
    "# other libraries\n",
    "import cv2\n",
    "import os\n",
    "from PIL import Image\n",
    "from tensorflow.keras.preprocessing.image import img_to_array, load_img"
   ]
  },
  {
   "cell_type": "markdown",
   "id": "aed7e4e3",
   "metadata": {
    "papermill": {
     "duration": 0.003984,
     "end_time": "2024-11-19T20:08:40.455094",
     "exception": false,
     "start_time": "2024-11-19T20:08:40.451110",
     "status": "completed"
    },
    "tags": []
   },
   "source": [
    "### 2. Loading Images"
   ]
  },
  {
   "cell_type": "code",
   "execution_count": 2,
   "id": "ba9ff5ce",
   "metadata": {
    "execution": {
     "iopub.execute_input": "2024-11-19T20:08:40.464668Z",
     "iopub.status.busy": "2024-11-19T20:08:40.464180Z",
     "iopub.status.idle": "2024-11-19T20:08:40.511629Z",
     "shell.execute_reply": "2024-11-19T20:08:40.510835Z"
    },
    "papermill": {
     "duration": 0.054206,
     "end_time": "2024-11-19T20:08:40.513382",
     "exception": false,
     "start_time": "2024-11-19T20:08:40.459176",
     "status": "completed"
    },
    "tags": []
   },
   "outputs": [
    {
     "data": {
      "text/html": [
       "<div>\n",
       "<style scoped>\n",
       "    .dataframe tbody tr th:only-of-type {\n",
       "        vertical-align: middle;\n",
       "    }\n",
       "\n",
       "    .dataframe tbody tr th {\n",
       "        vertical-align: top;\n",
       "    }\n",
       "\n",
       "    .dataframe thead th {\n",
       "        text-align: right;\n",
       "    }\n",
       "</style>\n",
       "<table border=\"1\" class=\"dataframe\">\n",
       "  <thead>\n",
       "    <tr style=\"text-align: right;\">\n",
       "      <th></th>\n",
       "      <th>lesion_id</th>\n",
       "      <th>image_id</th>\n",
       "      <th>dx</th>\n",
       "      <th>dx_type</th>\n",
       "      <th>age</th>\n",
       "      <th>sex</th>\n",
       "      <th>localization</th>\n",
       "    </tr>\n",
       "  </thead>\n",
       "  <tbody>\n",
       "    <tr>\n",
       "      <th>0</th>\n",
       "      <td>HAM_0000118</td>\n",
       "      <td>ISIC_0027419</td>\n",
       "      <td>bkl</td>\n",
       "      <td>histo</td>\n",
       "      <td>80.0</td>\n",
       "      <td>male</td>\n",
       "      <td>scalp</td>\n",
       "    </tr>\n",
       "    <tr>\n",
       "      <th>1</th>\n",
       "      <td>HAM_0000118</td>\n",
       "      <td>ISIC_0025030</td>\n",
       "      <td>bkl</td>\n",
       "      <td>histo</td>\n",
       "      <td>80.0</td>\n",
       "      <td>male</td>\n",
       "      <td>scalp</td>\n",
       "    </tr>\n",
       "    <tr>\n",
       "      <th>2</th>\n",
       "      <td>HAM_0002730</td>\n",
       "      <td>ISIC_0026769</td>\n",
       "      <td>bkl</td>\n",
       "      <td>histo</td>\n",
       "      <td>80.0</td>\n",
       "      <td>male</td>\n",
       "      <td>scalp</td>\n",
       "    </tr>\n",
       "    <tr>\n",
       "      <th>3</th>\n",
       "      <td>HAM_0002730</td>\n",
       "      <td>ISIC_0025661</td>\n",
       "      <td>bkl</td>\n",
       "      <td>histo</td>\n",
       "      <td>80.0</td>\n",
       "      <td>male</td>\n",
       "      <td>scalp</td>\n",
       "    </tr>\n",
       "    <tr>\n",
       "      <th>4</th>\n",
       "      <td>HAM_0001466</td>\n",
       "      <td>ISIC_0031633</td>\n",
       "      <td>bkl</td>\n",
       "      <td>histo</td>\n",
       "      <td>75.0</td>\n",
       "      <td>male</td>\n",
       "      <td>ear</td>\n",
       "    </tr>\n",
       "  </tbody>\n",
       "</table>\n",
       "</div>"
      ],
      "text/plain": [
       "     lesion_id      image_id   dx dx_type   age   sex localization\n",
       "0  HAM_0000118  ISIC_0027419  bkl   histo  80.0  male        scalp\n",
       "1  HAM_0000118  ISIC_0025030  bkl   histo  80.0  male        scalp\n",
       "2  HAM_0002730  ISIC_0026769  bkl   histo  80.0  male        scalp\n",
       "3  HAM_0002730  ISIC_0025661  bkl   histo  80.0  male        scalp\n",
       "4  HAM_0001466  ISIC_0031633  bkl   histo  75.0  male          ear"
      ]
     },
     "execution_count": 2,
     "metadata": {},
     "output_type": "execute_result"
    }
   ],
   "source": [
    "# loading the csv file\n",
    "\n",
    "metadata = pd.read_csv('/kaggle/input/skin-cancer-mnist-ham10000/HAM10000_metadata.csv')\n",
    "metadata.head(5)"
   ]
  },
  {
   "cell_type": "code",
   "execution_count": 3,
   "id": "4d403696",
   "metadata": {
    "execution": {
     "iopub.execute_input": "2024-11-19T20:08:40.523084Z",
     "iopub.status.busy": "2024-11-19T20:08:40.522846Z",
     "iopub.status.idle": "2024-11-19T20:08:40.526505Z",
     "shell.execute_reply": "2024-11-19T20:08:40.525781Z"
    },
    "papermill": {
     "duration": 0.010287,
     "end_time": "2024-11-19T20:08:40.528077",
     "exception": false,
     "start_time": "2024-11-19T20:08:40.517790",
     "status": "completed"
    },
    "tags": []
   },
   "outputs": [],
   "source": [
    "label_mapping2 = {\n",
    "    \"nv\": 0,\n",
    "    \"bkl\": 0,\n",
    "    \"df\": 0,\n",
    "    \"mel\": 1,\n",
    "    \"vasc\": 0,\n",
    "    \"bcc\": 1,\n",
    "    \"akiec\": 1\n",
    "}"
   ]
  },
  {
   "cell_type": "code",
   "execution_count": 4,
   "id": "ddea2a46",
   "metadata": {
    "execution": {
     "iopub.execute_input": "2024-11-19T20:08:40.537539Z",
     "iopub.status.busy": "2024-11-19T20:08:40.537280Z",
     "iopub.status.idle": "2024-11-19T20:08:40.540524Z",
     "shell.execute_reply": "2024-11-19T20:08:40.539751Z"
    },
    "papermill": {
     "duration": 0.009598,
     "end_time": "2024-11-19T20:08:40.542002",
     "exception": false,
     "start_time": "2024-11-19T20:08:40.532404",
     "status": "completed"
    },
    "tags": []
   },
   "outputs": [],
   "source": [
    "# # function to load_image data\n",
    "# def load_image(image_id  , image_folder):\n",
    "#     image_path = os.path.join(image_folder , f'{image_id}.jpg')\n",
    "#     return Image.open(image_path)"
   ]
  },
  {
   "cell_type": "code",
   "execution_count": 5,
   "id": "ebbc22c1",
   "metadata": {
    "execution": {
     "iopub.execute_input": "2024-11-19T20:08:40.551469Z",
     "iopub.status.busy": "2024-11-19T20:08:40.551223Z",
     "iopub.status.idle": "2024-11-19T20:08:40.554498Z",
     "shell.execute_reply": "2024-11-19T20:08:40.553694Z"
    },
    "papermill": {
     "duration": 0.009801,
     "end_time": "2024-11-19T20:08:40.556200",
     "exception": false,
     "start_time": "2024-11-19T20:08:40.546399",
     "status": "completed"
    },
    "tags": []
   },
   "outputs": [],
   "source": [
    "# # Deleting Folder\n",
    "# import shutil\n",
    "# shutil.rmtree(\"/kaggle/working/\")"
   ]
  },
  {
   "cell_type": "code",
   "execution_count": 6,
   "id": "2da7b83d",
   "metadata": {
    "execution": {
     "iopub.execute_input": "2024-11-19T20:08:40.566052Z",
     "iopub.status.busy": "2024-11-19T20:08:40.565582Z",
     "iopub.status.idle": "2024-11-19T20:11:41.911515Z",
     "shell.execute_reply": "2024-11-19T20:11:41.910468Z"
    },
    "papermill": {
     "duration": 181.357523,
     "end_time": "2024-11-19T20:11:41.918074",
     "exception": false,
     "start_time": "2024-11-19T20:08:40.560551",
     "status": "completed"
    },
    "tags": []
   },
   "outputs": [
    {
     "name": "stdout",
     "output_type": "stream",
     "text": [
      "Total segmented images processed: 10015\n",
      "Shape of X_segmented: (10015, 192, 192, 3)\n",
      "Shape of y_segmented: (10015,)\n"
     ]
    }
   ],
   "source": [
    "import cv2\n",
    "import numpy as np\n",
    "import os\n",
    "from tensorflow.keras.preprocessing.image import img_to_array\n",
    "from tensorflow.keras.utils import to_categorical\n",
    "\n",
    "# Directories for images\n",
    "image_folder1 = '/kaggle/input/skin-cancer-mnist-ham10000/HAM10000_images_part_1'\n",
    "image_folder2 = '/kaggle/input/skin-cancer-mnist-ham10000/HAM10000_images_part_2'\n",
    "\n",
    "# Initialize lists for image data and labels\n",
    "segmented_image_data = []\n",
    "labels2 = []\n",
    "\n",
    "# Function to segment an image\n",
    "def segment_image(image_path):\n",
    "    # Read image\n",
    "    image = cv2.imread(image_path)\n",
    "    if image is None:\n",
    "        return None  # Return None if the image could not be loaded\n",
    "\n",
    "    # Convert to RGB\n",
    "    image = cv2.cvtColor(image, cv2.COLOR_BGR2RGB)\n",
    "    \n",
    "    # Convert to grayscale\n",
    "    gray = cv2.cvtColor(image, cv2.COLOR_RGB2GRAY)\n",
    "    \n",
    "    # Apply thresholding\n",
    "    _, thresh = cv2.threshold(gray, 0, 255, cv2.THRESH_BINARY + cv2.THRESH_OTSU)\n",
    "    \n",
    "    # Find contours\n",
    "    contours, _ = cv2.findContours(thresh, cv2.RETR_EXTERNAL, cv2.CHAIN_APPROX_SIMPLE)\n",
    "    mask = np.zeros_like(gray)\n",
    "    \n",
    "    # Draw contours\n",
    "    cv2.drawContours(mask, contours, -1, 255, thickness=cv2.FILLED)\n",
    "    \n",
    "    # Apply mask to isolate lesion\n",
    "    segmented = cv2.bitwise_and(image, image, mask=mask)\n",
    "    \n",
    "    return segmented\n",
    "\n",
    "# Process images and labels\n",
    "for idx, row in metadata.iterrows():\n",
    "    image_id = row['image_id']\n",
    "    dx = row['dx']\n",
    "    \n",
    "    # Construct the image path for each folder\n",
    "    image_path1 = f\"{image_folder1}/{image_id}.jpg\"\n",
    "    image_path2 = f\"{image_folder2}/{image_id}.jpg\"\n",
    "    \n",
    "    # Try to load and segment the image\n",
    "    image = None\n",
    "    if os.path.exists(image_path1):\n",
    "        image = segment_image(image_path1)\n",
    "    elif os.path.exists(image_path2):\n",
    "        image = segment_image(image_path2)\n",
    "    \n",
    "    # If the image couldn't be loaded, skip it\n",
    "    if image is None:\n",
    "        print(f\"Image not found or could not be read: {image_id}\")\n",
    "        continue\n",
    "\n",
    "    # Resize the segmented image to the model's input size\n",
    "    image = cv2.resize(image, (192, 192))\n",
    "    image = img_to_array(image) / 255.0  # Normalize image to [0, 1]\n",
    "    segmented_image_data.append(image)\n",
    "    \n",
    "    # Append labels\n",
    "    # labels1.append(label_mapping[dx])\n",
    "    labels2.append(label_mapping2[dx])\n",
    "\n",
    "# Convert to NumPy arrays\n",
    "X_segmented = np.array(segmented_image_data)\n",
    "y_segmented = np.array(labels2)  # Assuming `label_mapping2` is for y\n",
    "\n",
    "print(f\"Total segmented images processed: {len(X_segmented)}\")\n",
    "print(f\"Shape of X_segmented: {X_segmented.shape}\")\n",
    "print(f\"Shape of y_segmented: {y_segmented.shape}\")"
   ]
  },
  {
   "cell_type": "code",
   "execution_count": 7,
   "id": "be240076",
   "metadata": {
    "execution": {
     "iopub.execute_input": "2024-11-19T20:11:41.928500Z",
     "iopub.status.busy": "2024-11-19T20:11:41.927826Z",
     "iopub.status.idle": "2024-11-19T20:11:41.938649Z",
     "shell.execute_reply": "2024-11-19T20:11:41.937941Z"
    },
    "papermill": {
     "duration": 0.017657,
     "end_time": "2024-11-19T20:11:41.940238",
     "exception": false,
     "start_time": "2024-11-19T20:11:41.922581",
     "status": "completed"
    },
    "tags": []
   },
   "outputs": [
    {
     "name": "stdout",
     "output_type": "stream",
     "text": [
      "Shape of y_segmented: (10015, 2)\n"
     ]
    },
    {
     "data": {
      "text/plain": [
       "array([[1, 0],\n",
       "       [1, 0],\n",
       "       [1, 0],\n",
       "       ...,\n",
       "       [0, 1],\n",
       "       [0, 1],\n",
       "       [0, 1]])"
      ]
     },
     "execution_count": 7,
     "metadata": {},
     "output_type": "execute_result"
    }
   ],
   "source": [
    "y_encoded = pd.get_dummies(y_segmented, dtype=int).values\n",
    "print(f\"Shape of y_segmented: {y_encoded.shape}\")\n",
    "y_encoded"
   ]
  },
  {
   "cell_type": "code",
   "execution_count": 8,
   "id": "343db278",
   "metadata": {
    "execution": {
     "iopub.execute_input": "2024-11-19T20:11:41.950569Z",
     "iopub.status.busy": "2024-11-19T20:11:41.949935Z",
     "iopub.status.idle": "2024-11-19T20:11:43.200440Z",
     "shell.execute_reply": "2024-11-19T20:11:43.199469Z"
    },
    "papermill": {
     "duration": 1.257784,
     "end_time": "2024-11-19T20:11:43.202632",
     "exception": false,
     "start_time": "2024-11-19T20:11:41.944848",
     "status": "completed"
    },
    "tags": []
   },
   "outputs": [],
   "source": [
    "X_train_image, X_test_image, y_encoded_train ,y_encoded_test = train_test_split(X_segmented, y_encoded ,test_size=.2 ,random_state=42)"
   ]
  },
  {
   "cell_type": "markdown",
   "id": "819820b8",
   "metadata": {
    "papermill": {
     "duration": 0.004794,
     "end_time": "2024-11-19T20:11:43.212216",
     "exception": false,
     "start_time": "2024-11-19T20:11:43.207422",
     "status": "completed"
    },
    "tags": []
   },
   "source": [
    "### 3.i. CNN + ANN Model"
   ]
  },
  {
   "cell_type": "code",
   "execution_count": 9,
   "id": "03148c5e",
   "metadata": {
    "execution": {
     "iopub.execute_input": "2024-11-19T20:11:43.222371Z",
     "iopub.status.busy": "2024-11-19T20:11:43.222096Z",
     "iopub.status.idle": "2024-11-19T20:11:43.226597Z",
     "shell.execute_reply": "2024-11-19T20:11:43.225783Z"
    },
    "papermill": {
     "duration": 0.01145,
     "end_time": "2024-11-19T20:11:43.228161",
     "exception": false,
     "start_time": "2024-11-19T20:11:43.216711",
     "status": "completed"
    },
    "tags": []
   },
   "outputs": [],
   "source": [
    "# # from tensorflow.keras.models import Sequential\n",
    "# # from tensorflow.keras.layers import Conv2D, MaxPooling2D, Flatten, Dense, Dropout\n",
    "\n",
    "# # Creating the CNN + ANN model\n",
    "# model = Sequential()\n",
    "\n",
    "# # Convolutional layers\n",
    "# model.add(Conv2D(64, kernel_size=(3, 3), padding='same', activation='relu', input_shape=(192, 192, 3)))  # conv1\n",
    "# model.add(MaxPooling2D(pool_size=(2, 2), strides=2, padding='valid'))\n",
    "\n",
    "# model.add(Conv2D(128, kernel_size=(3, 3), padding='same', activation='relu'))  # conv2\n",
    "# model.add(MaxPooling2D(pool_size=(2, 2), strides=2, padding='valid'))\n",
    "\n",
    "# model.add(Conv2D(256, kernel_size=(3, 3), padding='same', activation='relu'))  # conv3\n",
    "# model.add(MaxPooling2D(pool_size=(2, 2), strides=2, padding='valid'))\n",
    "\n",
    "# model.add(Conv2D(512, kernel_size=(3, 3), padding='same', activation='relu'))  # conv4\n",
    "# model.add(MaxPooling2D(pool_size=(2, 2), strides=2, padding='valid'))\n",
    "\n",
    "# model.add(Conv2D(512, kernel_size=(3, 3), padding='same', activation='relu'))  # conv5\n",
    "# model.add(MaxPooling2D(pool_size=(2, 2), strides=2, padding='valid'))\n",
    "\n",
    "# # Flattening\n",
    "# model.add(Flatten())\n",
    "\n",
    "# # Fully connected layers (ANN)\n",
    "# model.add(Dense(256, activation='relu'))  # H₁\n",
    "# model.add(Dropout(0.5))  # Adding dropout for regularization\n",
    "\n",
    "# model.add(Dense(128, activation='relu'))  # H₂\n",
    "# model.add(Dropout(0.5))\n",
    "\n",
    "# model.add(Dense(64, activation='relu'))  # H₃\n",
    "\n",
    "# # Output layer\n",
    "# model.add(Dense(2, activation='softmax')) \n"
   ]
  },
  {
   "cell_type": "code",
   "execution_count": 10,
   "id": "c8cd0fb0",
   "metadata": {
    "execution": {
     "iopub.execute_input": "2024-11-19T20:11:43.238424Z",
     "iopub.status.busy": "2024-11-19T20:11:43.238167Z",
     "iopub.status.idle": "2024-11-19T20:11:43.241399Z",
     "shell.execute_reply": "2024-11-19T20:11:43.240698Z"
    },
    "papermill": {
     "duration": 0.010282,
     "end_time": "2024-11-19T20:11:43.242924",
     "exception": false,
     "start_time": "2024-11-19T20:11:43.232642",
     "status": "completed"
    },
    "tags": []
   },
   "outputs": [],
   "source": [
    "# model.summary()"
   ]
  },
  {
   "cell_type": "code",
   "execution_count": 11,
   "id": "433d5afb",
   "metadata": {
    "execution": {
     "iopub.execute_input": "2024-11-19T20:11:43.252877Z",
     "iopub.status.busy": "2024-11-19T20:11:43.252615Z",
     "iopub.status.idle": "2024-11-19T20:11:43.256219Z",
     "shell.execute_reply": "2024-11-19T20:11:43.255427Z"
    },
    "papermill": {
     "duration": 0.010219,
     "end_time": "2024-11-19T20:11:43.257692",
     "exception": false,
     "start_time": "2024-11-19T20:11:43.247473",
     "status": "completed"
    },
    "tags": []
   },
   "outputs": [],
   "source": [
    "# from tensorflow.keras import metrics\n",
    "\n",
    "# # Model compilation with additional metrics\n",
    "# model.compile(\n",
    "#     optimizer='adam',\n",
    "#     loss='binary_crossentropy',\n",
    "#     metrics=[\n",
    "#         'accuracy',\n",
    "#         metrics.Precision(name='precision'),\n",
    "#         metrics.Recall(name='recall')\n",
    "#     ]\n",
    "# )"
   ]
  },
  {
   "cell_type": "code",
   "execution_count": 12,
   "id": "4656c33d",
   "metadata": {
    "execution": {
     "iopub.execute_input": "2024-11-19T20:11:43.267349Z",
     "iopub.status.busy": "2024-11-19T20:11:43.267134Z",
     "iopub.status.idle": "2024-11-19T20:11:43.270537Z",
     "shell.execute_reply": "2024-11-19T20:11:43.269743Z"
    },
    "papermill": {
     "duration": 0.010178,
     "end_time": "2024-11-19T20:11:43.272243",
     "exception": false,
     "start_time": "2024-11-19T20:11:43.262065",
     "status": "completed"
    },
    "tags": []
   },
   "outputs": [],
   "source": [
    "# history = model.fit(\n",
    "#     X_train_image, y_encoded_train, \n",
    "#     epochs=15, \n",
    "#     validation_data=(X_test_image, y_encoded_test)\n",
    "# )"
   ]
  },
  {
   "cell_type": "code",
   "execution_count": 13,
   "id": "bcc49534",
   "metadata": {
    "execution": {
     "iopub.execute_input": "2024-11-19T20:11:43.282111Z",
     "iopub.status.busy": "2024-11-19T20:11:43.281868Z",
     "iopub.status.idle": "2024-11-19T20:11:43.285177Z",
     "shell.execute_reply": "2024-11-19T20:11:43.284390Z"
    },
    "papermill": {
     "duration": 0.009903,
     "end_time": "2024-11-19T20:11:43.286662",
     "exception": false,
     "start_time": "2024-11-19T20:11:43.276759",
     "status": "completed"
    },
    "tags": []
   },
   "outputs": [],
   "source": [
    "# plt.figure(figsize=(10, 6))\n",
    "# plt.plot(history.history['accuracy'], color='red', label='Training Accuracy')\n",
    "# plt.plot(history.history['val_accuracy'], color='blue', label='Validation Accuracy')\n",
    "# plt.xlabel('Epochs')\n",
    "# plt.ylabel('Accuracy')\n",
    "# plt.legend()\n",
    "# plt.title('Model - Accuracy')\n",
    "# plt.show()"
   ]
  },
  {
   "cell_type": "code",
   "execution_count": 14,
   "id": "692f86d6",
   "metadata": {
    "execution": {
     "iopub.execute_input": "2024-11-19T20:11:43.296690Z",
     "iopub.status.busy": "2024-11-19T20:11:43.296430Z",
     "iopub.status.idle": "2024-11-19T20:11:43.299837Z",
     "shell.execute_reply": "2024-11-19T20:11:43.299051Z"
    },
    "papermill": {
     "duration": 0.010261,
     "end_time": "2024-11-19T20:11:43.301378",
     "exception": false,
     "start_time": "2024-11-19T20:11:43.291117",
     "status": "completed"
    },
    "tags": []
   },
   "outputs": [],
   "source": [
    "# plt.figure(figsize=(10, 6))\n",
    "# plt.plot(history.history['loss'], color='red', label='Training Loss')\n",
    "# plt.plot(history.history['val_loss'], color='blue', label='Validation Loss')\n",
    "# plt.xlabel('Epochs')\n",
    "# plt.ylabel('Loss')\n",
    "# plt.legend()\n",
    "# plt.title('Model - Loss')\n",
    "# plt.show()"
   ]
  },
  {
   "cell_type": "markdown",
   "id": "299438a2",
   "metadata": {
    "papermill": {
     "duration": 0.004437,
     "end_time": "2024-11-19T20:11:43.310297",
     "exception": false,
     "start_time": "2024-11-19T20:11:43.305860",
     "status": "completed"
    },
    "tags": []
   },
   "source": [
    "### 3.ii. EfficientNet - Hyperparameter Tuned (with Trainable Parameters)"
   ]
  },
  {
   "cell_type": "code",
   "execution_count": 15,
   "id": "cff1398a",
   "metadata": {
    "execution": {
     "iopub.execute_input": "2024-11-19T20:11:43.319894Z",
     "iopub.status.busy": "2024-11-19T20:11:43.319624Z",
     "iopub.status.idle": "2024-11-19T20:11:43.330070Z",
     "shell.execute_reply": "2024-11-19T20:11:43.329465Z"
    },
    "papermill": {
     "duration": 0.016969,
     "end_time": "2024-11-19T20:11:43.331582",
     "exception": false,
     "start_time": "2024-11-19T20:11:43.314613",
     "status": "completed"
    },
    "tags": []
   },
   "outputs": [],
   "source": [
    "import tensorflow as tf\n",
    "from tensorflow.keras.applications import EfficientNetB0\n",
    "from tensorflow.keras.layers import Dense, GlobalAveragePooling2D, Dropout\n",
    "from tensorflow.keras.models import Model\n",
    "from tensorflow.keras.optimizers import Adam"
   ]
  },
  {
   "cell_type": "code",
   "execution_count": 16,
   "id": "1ce8edfb",
   "metadata": {
    "execution": {
     "iopub.execute_input": "2024-11-19T20:11:43.341878Z",
     "iopub.status.busy": "2024-11-19T20:11:43.341244Z",
     "iopub.status.idle": "2024-11-19T20:11:45.733877Z",
     "shell.execute_reply": "2024-11-19T20:11:45.732955Z"
    },
    "papermill": {
     "duration": 2.399819,
     "end_time": "2024-11-19T20:11:45.735966",
     "exception": false,
     "start_time": "2024-11-19T20:11:43.336147",
     "status": "completed"
    },
    "tags": []
   },
   "outputs": [
    {
     "name": "stdout",
     "output_type": "stream",
     "text": [
      "Downloading data from https://storage.googleapis.com/keras-applications/efficientnetb0_notop.h5\n",
      "\u001b[1m16705208/16705208\u001b[0m \u001b[32m━━━━━━━━━━━━━━━━━━━━\u001b[0m\u001b[37m\u001b[0m \u001b[1m0s\u001b[0m 0us/step\n"
     ]
    }
   ],
   "source": [
    "# Loading the EfficientNetB0 model pre-trained on ImageNet\n",
    "base_model1 = EfficientNetB0(weights='imagenet', include_top=False, input_shape=(192, 192, 3))"
   ]
  },
  {
   "cell_type": "code",
   "execution_count": 17,
   "id": "751be3d8",
   "metadata": {
    "execution": {
     "iopub.execute_input": "2024-11-19T20:11:45.747246Z",
     "iopub.status.busy": "2024-11-19T20:11:45.746648Z",
     "iopub.status.idle": "2024-11-19T20:11:45.750530Z",
     "shell.execute_reply": "2024-11-19T20:11:45.749694Z"
    },
    "papermill": {
     "duration": 0.011108,
     "end_time": "2024-11-19T20:11:45.752191",
     "exception": false,
     "start_time": "2024-11-19T20:11:45.741083",
     "status": "completed"
    },
    "tags": []
   },
   "outputs": [],
   "source": [
    "# Fine-tuning the model (unfreeze some layers of the base model)\n",
    "base_model1.trainable = True"
   ]
  },
  {
   "cell_type": "code",
   "execution_count": 18,
   "id": "077dd2ce",
   "metadata": {
    "execution": {
     "iopub.execute_input": "2024-11-19T20:11:45.763068Z",
     "iopub.status.busy": "2024-11-19T20:11:45.762565Z",
     "iopub.status.idle": "2024-11-19T20:11:45.818394Z",
     "shell.execute_reply": "2024-11-19T20:11:45.817537Z"
    },
    "papermill": {
     "duration": 0.063231,
     "end_time": "2024-11-19T20:11:45.820172",
     "exception": false,
     "start_time": "2024-11-19T20:11:45.756941",
     "status": "completed"
    },
    "tags": []
   },
   "outputs": [],
   "source": [
    "# model adjustments\n",
    "\n",
    "# Adding custom classification head\n",
    "x = base_model1.output\n",
    "x = GlobalAveragePooling2D()(x)\n",
    "x = Dropout(0.4)(x)  # Dropout to reduce overfitting\n",
    "x = Dense(256, activation='relu')(x)\n",
    "x = Dropout(0.3)(x)\n",
    "x = Dense(128, activation='relu')(x)\n",
    "output = Dense(2, activation='softmax')(x)  # 7 output labels\n",
    "\n",
    "# and defining the final model\n",
    "model1 = Model(inputs=base_model1.input, outputs=output)"
   ]
  },
  {
   "cell_type": "code",
   "execution_count": 19,
   "id": "e338f549",
   "metadata": {
    "execution": {
     "iopub.execute_input": "2024-11-19T20:11:45.830695Z",
     "iopub.status.busy": "2024-11-19T20:11:45.830429Z",
     "iopub.status.idle": "2024-11-19T20:11:45.840933Z",
     "shell.execute_reply": "2024-11-19T20:11:45.840098Z"
    },
    "papermill": {
     "duration": 0.017444,
     "end_time": "2024-11-19T20:11:45.842411",
     "exception": false,
     "start_time": "2024-11-19T20:11:45.824967",
     "status": "completed"
    },
    "tags": []
   },
   "outputs": [],
   "source": [
    "# Lowering the learning rate for fine-tuning\n",
    "model1.compile(optimizer=Adam(learning_rate=0.0001),\n",
    "              loss='categorical_crossentropy',\n",
    "              metrics=['accuracy'])"
   ]
  },
  {
   "cell_type": "code",
   "execution_count": 20,
   "id": "9ec69c96",
   "metadata": {
    "execution": {
     "iopub.execute_input": "2024-11-19T20:11:45.852960Z",
     "iopub.status.busy": "2024-11-19T20:11:45.852678Z",
     "iopub.status.idle": "2024-11-19T20:19:00.353003Z",
     "shell.execute_reply": "2024-11-19T20:19:00.352030Z"
    },
    "papermill": {
     "duration": 434.508079,
     "end_time": "2024-11-19T20:19:00.355415",
     "exception": false,
     "start_time": "2024-11-19T20:11:45.847336",
     "status": "completed"
    },
    "tags": []
   },
   "outputs": [
    {
     "name": "stdout",
     "output_type": "stream",
     "text": [
      "Epoch 1/10\n"
     ]
    },
    {
     "name": "stderr",
     "output_type": "stream",
     "text": [
      "WARNING: All log messages before absl::InitializeLog() is called are written to STDERR\n",
      "I0000 00:00:1732047144.858103      71 service.cc:145] XLA service 0x7eea1c0e94f0 initialized for platform CUDA (this does not guarantee that XLA will be used). Devices:\n",
      "I0000 00:00:1732047144.858156      71 service.cc:153]   StreamExecutor device (0): Tesla T4, Compute Capability 7.5\n",
      "I0000 00:00:1732047144.858160      71 service.cc:153]   StreamExecutor device (1): Tesla T4, Compute Capability 7.5\n"
     ]
    },
    {
     "name": "stdout",
     "output_type": "stream",
     "text": [
      "\u001b[1m  2/501\u001b[0m \u001b[37m━━━━━━━━━━━━━━━━━━━━\u001b[0m \u001b[1m41s\u001b[0m 83ms/step - accuracy: 0.1875 - loss: 0.9659    "
     ]
    },
    {
     "name": "stderr",
     "output_type": "stream",
     "text": [
      "I0000 00:00:1732047192.012602      71 device_compiler.h:188] Compiled cluster using XLA!  This line is logged at most once for the lifetime of the process.\n"
     ]
    },
    {
     "name": "stdout",
     "output_type": "stream",
     "text": [
      "\u001b[1m501/501\u001b[0m \u001b[32m━━━━━━━━━━━━━━━━━━━━\u001b[0m\u001b[37m\u001b[0m \u001b[1m158s\u001b[0m 161ms/step - accuracy: 0.7543 - loss: 0.4652 - val_accuracy: 0.7329 - val_loss: 0.6274\n",
      "Epoch 2/10\n",
      "\u001b[1m501/501\u001b[0m \u001b[32m━━━━━━━━━━━━━━━━━━━━\u001b[0m\u001b[37m\u001b[0m \u001b[1m29s\u001b[0m 58ms/step - accuracy: 0.8631 - loss: 0.2947 - val_accuracy: 0.8637 - val_loss: 0.2924\n",
      "Epoch 3/10\n",
      "\u001b[1m501/501\u001b[0m \u001b[32m━━━━━━━━━━━━━━━━━━━━\u001b[0m\u001b[37m\u001b[0m \u001b[1m30s\u001b[0m 59ms/step - accuracy: 0.8856 - loss: 0.2532 - val_accuracy: 0.8757 - val_loss: 0.2801\n",
      "Epoch 4/10\n",
      "\u001b[1m501/501\u001b[0m \u001b[32m━━━━━━━━━━━━━━━━━━━━\u001b[0m\u001b[37m\u001b[0m \u001b[1m30s\u001b[0m 60ms/step - accuracy: 0.9193 - loss: 0.1918 - val_accuracy: 0.8577 - val_loss: 0.3145\n",
      "Epoch 5/10\n",
      "\u001b[1m501/501\u001b[0m \u001b[32m━━━━━━━━━━━━━━━━━━━━\u001b[0m\u001b[37m\u001b[0m \u001b[1m30s\u001b[0m 59ms/step - accuracy: 0.9441 - loss: 0.1403 - val_accuracy: 0.8692 - val_loss: 0.3390\n",
      "Epoch 6/10\n",
      "\u001b[1m501/501\u001b[0m \u001b[32m━━━━━━━━━━━━━━━━━━━━\u001b[0m\u001b[37m\u001b[0m \u001b[1m30s\u001b[0m 60ms/step - accuracy: 0.9637 - loss: 0.1035 - val_accuracy: 0.8752 - val_loss: 0.3579\n",
      "Epoch 7/10\n",
      "\u001b[1m501/501\u001b[0m \u001b[32m━━━━━━━━━━━━━━━━━━━━\u001b[0m\u001b[37m\u001b[0m \u001b[1m30s\u001b[0m 59ms/step - accuracy: 0.9710 - loss: 0.0792 - val_accuracy: 0.8772 - val_loss: 0.3879\n",
      "Epoch 8/10\n",
      "\u001b[1m501/501\u001b[0m \u001b[32m━━━━━━━━━━━━━━━━━━━━\u001b[0m\u001b[37m\u001b[0m \u001b[1m30s\u001b[0m 59ms/step - accuracy: 0.9714 - loss: 0.0690 - val_accuracy: 0.8822 - val_loss: 0.4237\n",
      "Epoch 9/10\n",
      "\u001b[1m501/501\u001b[0m \u001b[32m━━━━━━━━━━━━━━━━━━━━\u001b[0m\u001b[37m\u001b[0m \u001b[1m30s\u001b[0m 60ms/step - accuracy: 0.9771 - loss: 0.0602 - val_accuracy: 0.8837 - val_loss: 0.4083\n",
      "Epoch 10/10\n",
      "\u001b[1m501/501\u001b[0m \u001b[32m━━━━━━━━━━━━━━━━━━━━\u001b[0m\u001b[37m\u001b[0m \u001b[1m30s\u001b[0m 59ms/step - accuracy: 0.9799 - loss: 0.0589 - val_accuracy: 0.8717 - val_loss: 0.4574\n"
     ]
    }
   ],
   "source": [
    "# fitting the model\n",
    "history_finetune1 = model1.fit(\n",
    "    X_train_image, y_encoded_train,\n",
    "    validation_data=(X_test_image, y_encoded_test),\n",
    "    epochs=10,\n",
    "    batch_size=16\n",
    ")"
   ]
  },
  {
   "cell_type": "code",
   "execution_count": 21,
   "id": "cb1f3d99",
   "metadata": {
    "execution": {
     "iopub.execute_input": "2024-11-19T20:19:00.859122Z",
     "iopub.status.busy": "2024-11-19T20:19:00.858147Z",
     "iopub.status.idle": "2024-11-19T20:19:01.163821Z",
     "shell.execute_reply": "2024-11-19T20:19:01.162835Z"
    },
    "papermill": {
     "duration": 0.540491,
     "end_time": "2024-11-19T20:19:01.166178",
     "exception": false,
     "start_time": "2024-11-19T20:19:00.625687",
     "status": "completed"
    },
    "tags": []
   },
   "outputs": [
    {
     "data": {
      "image/png": "[encoded data removed]",
      "text/plain": [
       "<Figure size 1000x600 with 1 Axes>"
      ]
     },
     "metadata": {},
     "output_type": "display_data"
    }
   ],
   "source": [
    "plt.figure(figsize=(10, 6))\n",
    "plt.plot(history_finetune1.history['accuracy'], color='red', label='Training Accuracy')\n",
    "plt.plot(history_finetune1.history['val_accuracy'], color='blue', label='Validation Accuracy')\n",
    "plt.xlabel('Epochs')\n",
    "plt.ylabel('Accuracy')\n",
    "plt.legend()\n",
    "plt.title('Model - Accuracy')\n",
    "plt.show()"
   ]
  },
  {
   "cell_type": "code",
   "execution_count": null,
   "id": "c990e23e",
   "metadata": {
    "papermill": {
     "duration": 0.250562,
     "end_time": "2024-11-19T20:19:01.677691",
     "exception": false,
     "start_time": "2024-11-19T20:19:01.427129",
     "status": "completed"
    },
    "tags": []
   },
   "outputs": [],
   "source": []
  }
 ],
 "metadata": {
  "kaggle": {
   "accelerator": "nvidiaTeslaT4",
   "dataSources": [
    {
     "datasetId": 54339,
     "sourceId": 104884,
     "sourceType": "datasetVersion"
    }
   ],
   "dockerImageVersionId": 30787,
   "isGpuEnabled": true,
   "isInternetEnabled": true,
   "language": "python",
   "sourceType": "notebook"
  },
  "kernelspec": {
   "display_name": "Python 3",
   "language": "python",
   "name": "python3"
  },
  "language_info": {
   "codemirror_mode": {
    "name": "ipython",
    "version": 3
   },
   "file_extension": ".py",
   "mimetype": "text/x-python",
   "name": "python",
   "nbconvert_exporter": "python",
   "pygments_lexer": "ipython3",
   "version": "3.10.14"
  },
  "papermill": {
   "default_parameters": {},
   "duration": 639.862036,
   "end_time": "2024-11-19T20:19:05.423354",
   "environment_variables": {},
   "exception": null,
   "input_path": "__notebook__.ipynb",
   "output_path": "__notebook__.ipynb",
   "parameters": {},
   "start_time": "2024-11-19T20:08:25.561318",
   "version": "2.6.0"
  }
 },
 "nbformat": 4,
 "nbformat_minor": 5
}
